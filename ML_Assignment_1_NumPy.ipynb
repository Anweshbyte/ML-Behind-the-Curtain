{
  "cells": [
    {
      "cell_type": "code",
      "execution_count": 1,
      "id": "42f5e68e",
      "metadata": {
        "id": "42f5e68e"
      },
      "outputs": [],
      "source": [
        "import numpy as np"
      ]
    },
    {
      "cell_type": "markdown",
      "id": "2b209b50",
      "metadata": {
        "id": "2b209b50"
      },
      "source": [
        "Q1 Let x = np.arange(4, dtype=np.int64). Create an array of ones with the same shape and type as X."
      ]
    },
    {
      "cell_type": "code",
      "execution_count": 4,
      "id": "729dc9cd",
      "metadata": {
        "id": "729dc9cd"
      },
      "outputs": [],
      "source": [
        "arr = np.ones(4, dtype = np.int64)\n",
        "# print(arr)"
      ]
    },
    {
      "cell_type": "markdown",
      "id": "1b9ea803",
      "metadata": {
        "id": "1b9ea803"
      },
      "source": [
        "Q2 Let X = np.array([[1, 2], [3, 4]]). Convert it into a matrix."
      ]
    },
    {
      "cell_type": "code",
      "execution_count": 5,
      "id": "23e39b64",
      "metadata": {
        "id": "23e39b64"
      },
      "outputs": [],
      "source": [
        "x = np.array([[2,1],[3,4]])\n",
        "x = np.matrix(X)"
      ]
    },
    {
      "cell_type": "markdown",
      "id": "4c1fc004",
      "metadata": {
        "id": "4c1fc004"
      },
      "source": [
        "Q3 Create a 1-D array of 50 evenly spaced elements between 3. and 10., inclusive."
      ]
    },
    {
      "cell_type": "code",
      "execution_count": 7,
      "id": "9f0a47db",
      "metadata": {
        "id": "9f0a47db"
      },
      "outputs": [],
      "source": [
        "arr = np.linspace(3.0, 10.0, num=50)\n",
        "# print(arr)"
      ]
    },
    {
      "cell_type": "markdown",
      "id": "0289d659",
      "metadata": {
        "id": "0289d659"
      },
      "source": [
        "Q4 Let x be array [[1, 2, 3], [4, 5, 6]]. Convert it to [1 4 2 5 3 6]."
      ]
    },
    {
      "cell_type": "code",
      "execution_count": 9,
      "id": "f8435bca",
      "metadata": {
        "id": "f8435bca",
        "outputId": "86cb0473-be71-4d52-a6b4-b3c518151d13",
        "colab": {
          "base_uri": "https://localhost:8080/"
        }
      },
      "outputs": [
        {
          "output_type": "stream",
          "name": "stdout",
          "text": [
            "[1 2 3 4 5 6]\n"
          ]
        }
      ],
      "source": [
        "x = np.array([[1, 2, 3], [4, 5, 6]])\n",
        "arr = np.ravel(x)\n",
        "print(arr)"
      ]
    },
    {
      "cell_type": "markdown",
      "id": "71988acd",
      "metadata": {
        "id": "71988acd"
      },
      "source": [
        "Q5 Let x be an array [1, 2, 3, ..., 9]. Split x into 3 arrays, each of which has 4, 2, and 3 elements in the original order."
      ]
    },
    {
      "cell_type": "code",
      "execution_count": 11,
      "id": "9425a232",
      "metadata": {
        "id": "9425a232",
        "outputId": "20310453-80fd-4870-a9de-5bcc0efdec42",
        "colab": {
          "base_uri": "https://localhost:8080/"
        }
      },
      "outputs": [
        {
          "output_type": "stream",
          "name": "stdout",
          "text": [
            "[array([1, 2, 3, 4]), array([5, 6]), array([7, 8, 9])]\n"
          ]
        }
      ],
      "source": [
        "x = np.arange(1, 10)\n",
        "arr = np.split(x, [4, 6])\n",
        "print(arr)"
      ]
    },
    {
      "cell_type": "markdown",
      "id": "6aecae8c",
      "metadata": {
        "id": "6aecae8c"
      },
      "source": [
        " Q6 Compute the inverse and primary diagnol sum of x=[[1,2],[3,4]]"
      ]
    },
    {
      "cell_type": "code",
      "execution_count": 17,
      "id": "3d79a142",
      "metadata": {
        "id": "3d79a142",
        "outputId": "5c77fce7-912b-451c-ff88-146da6bc66cd",
        "colab": {
          "base_uri": "https://localhost:8080/"
        }
      },
      "outputs": [
        {
          "output_type": "stream",
          "name": "stdout",
          "text": [
            "Inverse of x:\n",
            "[[-2.   1. ]\n",
            " [ 1.5 -0.5]]\n",
            "Primary diagonal sum of x: 5\n"
          ]
        }
      ],
      "source": [
        "x = np.array([[1, 2], [3, 4]])\n",
        "x_inverse = np.linalg.inv(x)\n",
        "diagonal_sum = np.trace(x)\n",
        "print(\"Inverse of x:\")\n",
        "print(x_inverse)\n",
        "print(\"Primary diagonal sum of x:\", diagonal_sum)"
      ]
    },
    {
      "cell_type": "markdown",
      "id": "9f088694",
      "metadata": {
        "id": "9f088694"
      },
      "source": [
        "Q7 Sort x along the second axis. x = [[1,4],[3,1]]"
      ]
    },
    {
      "cell_type": "code",
      "execution_count": 19,
      "id": "40099735",
      "metadata": {
        "id": "40099735",
        "outputId": "dbed70ab-7719-40ad-ef73-720c4147eaa5",
        "colab": {
          "base_uri": "https://localhost:8080/"
        }
      },
      "outputs": [
        {
          "output_type": "stream",
          "name": "stdout",
          "text": [
            "[[1 4]\n",
            " [1 3]]\n"
          ]
        }
      ],
      "source": [
        "x = np.array([[1, 4], [3, 1]])\n",
        "sorted_x = np.sort(x, axis=1)\n",
        "print(sorted_x)"
      ]
    },
    {
      "cell_type": "markdown",
      "id": "51cc1a71",
      "metadata": {
        "id": "51cc1a71"
      },
      "source": [
        "Q8 Get the indices that would sort x(as above) along the second axis."
      ]
    },
    {
      "cell_type": "code",
      "execution_count": 21,
      "id": "f314f2b6",
      "metadata": {
        "id": "f314f2b6",
        "outputId": "bc57210e-e60c-4fe8-8b04-69d170050df3",
        "colab": {
          "base_uri": "https://localhost:8080/"
        }
      },
      "outputs": [
        {
          "output_type": "stream",
          "name": "stdout",
          "text": [
            "[[1 1]\n",
            " [3 4]]\n"
          ]
        }
      ],
      "source": [
        "x = np.array([[1, 4], [3, 1]])\n",
        "sorted_x = np.sort(x, axis=0)\n",
        "print(sorted_x)"
      ]
    },
    {
      "cell_type": "markdown",
      "id": "1cf5455c",
      "metadata": {
        "id": "1cf5455c"
      },
      "source": [
        "Initiate x as a 2x5 array with random values from 0 to 10(not inclusive).Get the maximum and minimum values and their indices of x along the second axis."
      ]
    },
    {
      "cell_type": "code",
      "execution_count": 22,
      "id": "4c9518c5",
      "metadata": {
        "id": "4c9518c5",
        "outputId": "c41196b3-97c9-467f-961f-595316644e59",
        "colab": {
          "base_uri": "https://localhost:8080/"
        }
      },
      "outputs": [
        {
          "output_type": "stream",
          "name": "stdout",
          "text": [
            "x:\n",
            "[[3.74540119 9.50714306 7.31993942 5.98658484 1.5601864 ]\n",
            " [1.5599452  0.58083612 8.66176146 6.01115012 7.08072578]]\n",
            "Maximum values: [9.50714306 8.66176146]\n",
            "Maximum indices: [1 2]\n",
            "Minimum values: [1.5601864  0.58083612]\n",
            "Minimum indices: [4 1]\n"
          ]
        }
      ],
      "source": [
        "np.random.seed(42)\n",
        "x = np.random.uniform(0, 10, (2, 5))\n",
        "\n",
        "print(\"x:\")\n",
        "print(x)\n",
        "\n",
        "max_values = np.amax(x, axis=1)\n",
        "\n",
        "max_indices = np.argmax(x, axis=1)\n",
        "\n",
        "min_values = np.amin(x, axis=1)\n",
        "\n",
        "min_indices = np.argmin(x, axis=1)\n",
        "\n",
        "print(\"Maximum values:\", max_values)\n",
        "print(\"Maximum indices:\", max_indices)\n",
        "print(\"Minimum values:\", min_values)\n",
        "print(\"Minimum indices:\", min_indices)"
      ]
    },
    {
      "cell_type": "markdown",
      "id": "d4c46002",
      "metadata": {
        "id": "d4c46002"
      },
      "source": [
        "Run the following load command to get the 2-Dim iris dataset. Do the following operations on it."
      ]
    },
    {
      "cell_type": "code",
      "execution_count": 23,
      "id": "6d70b524",
      "metadata": {
        "id": "6d70b524"
      },
      "outputs": [],
      "source": [
        "url = 'https://archive.ics.uci.edu/ml/machine-learning-databases/iris/iris.data'\n",
        "iris_2d = np.genfromtxt(url, delimiter=',', dtype='float', usecols=[0,1,2,3])"
      ]
    },
    {
      "cell_type": "markdown",
      "id": "09bd05b0",
      "metadata": {
        "id": "09bd05b0"
      },
      "source": [
        "\n",
        "\n",
        "```\n",
        "# This is formatted as code\n",
        "```\n",
        "\n",
        "Drop rows that contain a missing value."
      ]
    },
    {
      "cell_type": "code",
      "execution_count": 26,
      "id": "ffd754b3",
      "metadata": {
        "id": "ffd754b3"
      },
      "outputs": [],
      "source": [
        "iris_2d = iris_2d[~np.isnan(iris_2d).any(axis=1)]\n",
        "# print(iris_2d)"
      ]
    },
    {
      "cell_type": "markdown",
      "id": "8cbd9fb3",
      "metadata": {
        "id": "8cbd9fb3"
      },
      "source": [
        "Find the correlation between first two columns."
      ]
    },
    {
      "cell_type": "code",
      "execution_count": 27,
      "id": "e3ef5a77",
      "metadata": {
        "id": "e3ef5a77",
        "outputId": "89ed6bfe-1c69-4cca-a213-5e86642e2587",
        "colab": {
          "base_uri": "https://localhost:8080/"
        }
      },
      "outputs": [
        {
          "output_type": "stream",
          "name": "stdout",
          "text": [
            "[[ 1.         -0.10936925]\n",
            " [-0.10936925  1.        ]]\n"
          ]
        }
      ],
      "source": [
        "column_1 = iris_2d[:, 0]\n",
        "column_2 = iris_2d[:, 1]\n",
        "\n",
        "correlation = np.corrcoef(column_1, column_2)\n",
        "print(correlation)"
      ]
    },
    {
      "cell_type": "markdown",
      "id": "73965a4a",
      "metadata": {
        "id": "73965a4a"
      },
      "source": [
        "Find the mean,median and standard deviation of column 3."
      ]
    },
    {
      "cell_type": "code",
      "execution_count": 28,
      "id": "ab824597",
      "metadata": {
        "id": "ab824597",
        "outputId": "66ec9fd5-e295-48b3-d0b8-ad89a51f2290",
        "colab": {
          "base_uri": "https://localhost:8080/"
        }
      },
      "outputs": [
        {
          "output_type": "stream",
          "name": "stdout",
          "text": [
            "Mean: 3.758666666666666\n",
            "Median: 4.35\n",
            "Standard Deviation: 1.7585291834055212\n"
          ]
        }
      ],
      "source": [
        "column_3 = iris_2d[:, 2]\n",
        "\n",
        "mean = np.mean(column_3)\n",
        "median = np.median(column_3)\n",
        "std_dev = np.std(column_3)\n",
        "\n",
        "print(\"Mean:\", mean)\n",
        "print(\"Median:\", median)\n",
        "print(\"Standard Deviation:\", std_dev)"
      ]
    },
    {
      "cell_type": "markdown",
      "id": "14e0308e",
      "metadata": {
        "id": "14e0308e"
      },
      "source": [
        "Create a new column for volume in iris_2d, where volume is (pi x petallength x sepal_length^2)/3"
      ]
    },
    {
      "cell_type": "code",
      "execution_count": 31,
      "id": "91c944c3",
      "metadata": {
        "id": "91c944c3"
      },
      "outputs": [],
      "source": [
        "petal_length = iris_2d[:, 2]\n",
        "sepal_length = iris_2d[:, 0]\n",
        "\n",
        "volume = (np.pi * petal_length * (sepal_length ** 2)) / 3\n",
        "iris_2d = np.column_stack((iris_2d, volume))"
      ]
    },
    {
      "cell_type": "markdown",
      "id": "b7c1758f",
      "metadata": {
        "id": "b7c1758f"
      },
      "source": [
        "Run the following loaad command and solve the following questions"
      ]
    },
    {
      "cell_type": "code",
      "execution_count": 37,
      "id": "b3fae8a7",
      "metadata": {
        "id": "b3fae8a7"
      },
      "outputs": [],
      "source": [
        "url = 'https://archive.ics.uci.edu/ml/machine-learning-databases/iris/iris.data'\n",
        "iris = np.genfromtxt(url, delimiter=',', dtype='object')\n",
        "names = ('sepallength', 'sepalwidth', 'petallength', 'petalwidth', 'species')"
      ]
    },
    {
      "cell_type": "markdown",
      "id": "4ee21e50",
      "metadata": {
        "id": "4ee21e50"
      },
      "source": [
        "Find the count of unique species."
      ]
    },
    {
      "cell_type": "code",
      "execution_count": 38,
      "id": "730ad758",
      "metadata": {
        "id": "730ad758",
        "outputId": "984b2d3c-c34b-4c53-8cc8-613947977eef",
        "colab": {
          "base_uri": "https://localhost:8080/"
        }
      },
      "outputs": [
        {
          "output_type": "stream",
          "name": "stdout",
          "text": [
            "Count of unique species: 3\n"
          ]
        }
      ],
      "source": [
        "species_column = iris[:, names.index('species')]\n",
        "unique_species_count = len(np.unique(species_column))\n",
        "print(\"Count of unique species:\", unique_species_count)"
      ]
    },
    {
      "cell_type": "markdown",
      "id": "6d054b10",
      "metadata": {
        "id": "6d054b10"
      },
      "source": [
        "Bin the petal length (3rd) column of iris_2d to form a text array, such that if petal length is:\n",
        "Less than 3 –> ‘small’\n",
        "3-5 –> ‘medium’\n",
        "‘>=5 –> ‘large’"
      ]
    },
    {
      "cell_type": "code",
      "execution_count": 41,
      "id": "5be1b28a",
      "metadata": {
        "scrolled": false,
        "id": "5be1b28a",
        "outputId": "c3ebb5ab-8692-4cdd-caf9-617b01309318",
        "colab": {
          "base_uri": "https://localhost:8080/"
        }
      },
      "outputs": [
        {
          "output_type": "stream",
          "name": "stdout",
          "text": [
            "['small' 'small' 'small' 'small' 'small' 'small' 'small' 'small' 'small'\n",
            " 'small' 'small' 'small' 'small' 'small' 'small' 'small' 'small' 'small'\n",
            " 'small' 'small' 'small' 'small' 'small' 'small' 'small' 'small' 'small'\n",
            " 'small' 'small' 'small' 'small' 'small' 'small' 'small' 'small' 'small'\n",
            " 'small' 'small' 'small' 'small' 'small' 'small' 'small' 'small' 'small'\n",
            " 'small' 'small' 'small' 'small' 'small' 'medium' 'medium' 'medium'\n",
            " 'medium' 'medium' 'medium' 'medium' 'medium' 'medium' 'medium' 'medium'\n",
            " 'medium' 'medium' 'medium' 'medium' 'medium' 'medium' 'medium' 'medium'\n",
            " 'medium' 'medium' 'medium' 'medium' 'medium' 'medium' 'medium' 'medium'\n",
            " 'medium' 'medium' 'medium' 'medium' 'medium' 'medium' 'large' 'medium'\n",
            " 'medium' 'medium' 'medium' 'medium' 'medium' 'medium' 'medium' 'medium'\n",
            " 'medium' 'medium' 'medium' 'medium' 'medium' 'medium' 'medium' 'large'\n",
            " 'large' 'large' 'large' 'large' 'large' 'medium' 'large' 'large' 'large'\n",
            " 'large' 'large' 'large' 'medium' 'large' 'large' 'large' 'large' 'large'\n",
            " 'medium' 'large' 'medium' 'large' 'medium' 'large' 'large' 'medium'\n",
            " 'medium' 'large' 'large' 'large' 'large' 'large' 'large' 'large' 'large'\n",
            " 'large' 'large' 'medium' 'large' 'large' 'large' 'large' 'large' 'large'\n",
            " 'large' 'medium' 'large' 'large' 'large']\n"
          ]
        }
      ],
      "source": [
        "petal_length = iris[:, names.index('petallength')].astype(float)\n",
        "\n",
        "text_array = np.where(petal_length < 3, 'small', np.where(petal_length <= 5, 'medium', 'large'))\n",
        "\n",
        "print(text_array)"
      ]
    },
    {
      "cell_type": "markdown",
      "id": "87b2ddd8",
      "metadata": {
        "id": "87b2ddd8"
      },
      "source": [
        "Find the most frequent value of petal length (3rd column) in iris dataset"
      ]
    },
    {
      "cell_type": "code",
      "execution_count": 42,
      "id": "bb79857d",
      "metadata": {
        "id": "bb79857d",
        "outputId": "9518788a-89bf-4f53-b49b-30df70e2fdfe",
        "colab": {
          "base_uri": "https://localhost:8080/"
        }
      },
      "outputs": [
        {
          "output_type": "stream",
          "name": "stdout",
          "text": [
            "Most frequent value of petal length: 1.5\n"
          ]
        }
      ],
      "source": [
        "petal_length = iris[:, names.index('petallength')].astype(float)\n",
        "\n",
        "unique_values, counts = np.unique(petal_length, return_counts=True)\n",
        "most_frequent_value = unique_values[np.argmax(counts)]\n",
        "\n",
        "print(\"Most frequent value of petal length:\", most_frequent_value)"
      ]
    },
    {
      "cell_type": "code",
      "source": [],
      "metadata": {
        "id": "buokOA5KJzQ5"
      },
      "id": "buokOA5KJzQ5",
      "execution_count": null,
      "outputs": []
    }
  ],
  "metadata": {
    "kernelspec": {
      "display_name": "Python 3 (ipykernel)",
      "language": "python",
      "name": "python3"
    },
    "language_info": {
      "codemirror_mode": {
        "name": "ipython",
        "version": 3
      },
      "file_extension": ".py",
      "mimetype": "text/x-python",
      "name": "python",
      "nbconvert_exporter": "python",
      "pygments_lexer": "ipython3",
      "version": "3.8.10"
    },
    "colab": {
      "provenance": []
    }
  },
  "nbformat": 4,
  "nbformat_minor": 5
}